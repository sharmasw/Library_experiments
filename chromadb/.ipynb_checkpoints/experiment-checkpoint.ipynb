{
 "cells": [
  {
   "cell_type": "code",
   "execution_count": null,
   "id": "bbc6d1bf",
   "metadata": {},
   "outputs": [],
   "source": [
    "# !pip install chromadb"
   ]
  },
  {
   "cell_type": "code",
   "execution_count": 1,
   "id": "84e9256c",
   "metadata": {},
   "outputs": [],
   "source": [
    "from sklearn.datasets import fetch_20newsgroups\n",
    "newsgroups_train = fetch_20newsgroups(subset='train')"
   ]
  },
  {
   "cell_type": "code",
   "execution_count": null,
   "id": "844105bf",
   "metadata": {},
   "outputs": [],
   "source": [
    "len(newsgroups_train['data'])"
   ]
  },
  {
   "cell_type": "code",
   "execution_count": 6,
   "id": "15a04eec",
   "metadata": {},
   "outputs": [],
   "source": [
    "documentslen=newsgroups_train['data'][:1000]"
   ]
  },
  {
   "cell_type": "code",
   "execution_count": null,
   "id": "a08ed46e",
   "metadata": {},
   "outputs": [],
   "source": [
    "documentslen[0]"
   ]
  },
  {
   "cell_type": "code",
   "execution_count": 1,
   "id": "0c2484f4",
   "metadata": {},
   "outputs": [],
   "source": [
    "import chromadb\n",
    "from chromadb.config import  Settings\n",
    "chroma_client = chromadb.PersistentClient(\n",
    "    path = 'db/',\n",
    "    settings = Settings()\n",
    ")"
   ]
  },
  {
   "cell_type": "code",
   "execution_count": 2,
   "id": "59d3e2fe",
   "metadata": {},
   "outputs": [
    {
     "data": {
      "text/plain": [
       "1726787849955045900"
      ]
     },
     "execution_count": 2,
     "metadata": {},
     "output_type": "execute_result"
    }
   ],
   "source": [
    "chroma_client.heartbeat()"
   ]
  },
  {
   "cell_type": "code",
   "execution_count": 10,
   "id": "2783d445",
   "metadata": {},
   "outputs": [],
   "source": [
    "# collection = chroma_client.get_or_create_collection(name=\"my_collection\")\n"
   ]
  },
  {
   "cell_type": "code",
   "execution_count": 3,
   "id": "23733c06",
   "metadata": {},
   "outputs": [],
   "source": [
    "from chromadb.utils import embedding_functions"
   ]
  },
  {
   "cell_type": "code",
   "execution_count": 4,
   "id": "28f66f0b",
   "metadata": {},
   "outputs": [
    {
     "name": "stderr",
     "output_type": "stream",
     "text": [
      "c:\\Users\\Swapnil\\anaconda3\\envs\\pyhug\\Lib\\site-packages\\sentence_transformers\\cross_encoder\\CrossEncoder.py:13: TqdmWarning: IProgress not found. Please update jupyter and ipywidgets. See https://ipywidgets.readthedocs.io/en/stable/user_install.html\n",
      "  from tqdm.autonotebook import tqdm, trange\n"
     ]
    }
   ],
   "source": [
    "model_name = \"all-MiniLM-L6-v2\"\n",
    "emb_f = embedding_functions.SentenceTransformerEmbeddingFunction(model_name=model_name)"
   ]
  },
  {
   "cell_type": "code",
   "execution_count": 5,
   "id": "f1ff3b86",
   "metadata": {},
   "outputs": [],
   "source": [
    "collection2 = chroma_client.get_or_create_collection(name=\"newspaper_email_col\",embedding_function=emb_f)\n"
   ]
  },
  {
   "cell_type": "code",
   "execution_count": 21,
   "id": "a709744f",
   "metadata": {},
   "outputs": [],
   "source": [
    "# collection2.get(include=['embeddings','documents'])"
   ]
  },
  {
   "cell_type": "code",
   "execution_count": 18,
   "id": "4d26ffd1",
   "metadata": {},
   "outputs": [],
   "source": [
    "collection2.add(\n",
    "    ids=['1'],\n",
    "    documents=[ documentslen[0]\n",
    "               ],\n",
    ")\n"
   ]
  },
  {
   "cell_type": "code",
   "execution_count": null,
   "id": "604a80ce",
   "metadata": {},
   "outputs": [],
   "source": [
    "for i in range(len(documentslen)):\n",
    "    collection2.add(\n",
    "    ids=[str(i)],\n",
    "    documents=[ documentslen[i]\n",
    "               ],\n",
    ")\n"
   ]
  },
  {
   "cell_type": "code",
   "execution_count": 6,
   "id": "d730d79a",
   "metadata": {},
   "outputs": [
    {
     "name": "stdout",
     "output_type": "stream",
     "text": [
      "{'ids': [['830', '699', '846', '29', '156', '181', '1', '0', '876', '445']], 'distances': [[1.3084352016448975, 1.3096847534179688, 1.328615427017212, 1.333975076675415, 1.3424237966537476, 1.3545010089874268, 1.3724629878997803, 1.3724629878997803, 1.3746163845062256, 1.389455795288086]], 'metadatas': [[None, None, None, None, None, None, None, None, None, None]], 'embeddings': None, 'documents': [['From: fields@cis.ohio-state.edu (jonathan david fields)\\nSubject: Misc Stuff for Sale\\nOrganization: The Ohio State University Dept. of Computer and Info. Science\\nLines: 38\\nDistribution: usa\\nNNTP-Posting-Host: frigate.cis.ohio-state.edu\\n\\nMisc. Items for sale:\\n\\n\\nMount Plate:  Sony Model CPM-203P, mounting plate for Sony portable CD players\\nfor Portable: plugs into car lighter, snaps onto the bottom of any Sony\\nCD Player:    Portable CD player, perfect condition. Will also throw in a \\n\\t      cassette adapter in SO SO condition.\\n\\t      Paid $45...............Asking $30.\\n\\nCar Speakers:\\tSherwood 5 1/4\" two way car speakers, in car for 7 months,\\n5 1/4 inch:\\texcellent condition, Paid $65............Asking $40.\\n\\n4 inch:\\t    Factory Speakers from Toyota excellent condition Asking $20.\\n\\n\\nNintendo:   Nintendo Game Boy, Light Boy, Tetris, Super Mario Land,  \\nGameboy:    NFL Football, Castlevania Adventure, Hyper Lode Runner, 4 years\\n+ games:    old\\tall in working condition, Asking $70.\\nAccessories:\\n\\n\\nWhole Internet:\\tThe Whole Internet: User\\'s Guide and Catalog by ED Krol,\\nbook:\\t\\tguide to using the internet, where to fing information and \\n\\t\\tresources.   Paid $30..........Asking $20.\\n\\nMicroSoft:    Never Used, came with my computer, Asking $30.\\nVisual Basic:\\n\\nMicroSoft: \\t   Came with my computer, never used, Asking $100.\\nWord for Windows:\\n\\n\\n\\t\\t\\t\\t\\tThanks,\\n\\n\\t\\t\\t\\t\\tJonathan D. Fields\\n\\t\\t\\t\\t\\tfields@cis.ohio-state.edu\\n\\n\\n', \"From: dunnjj@ucsu.Colorado.EDU (DUNN  JONATHAN JAMES)\\nSubject: Re: Dumbest automotive concepts of all time\\nOrganization: University of Colorado, Boulder\\nLines: 24\\n\\nak296@yfn.ysu.edu (John R. Daker) writes:\\n\\n\\n>Cup holders (driving is an importantant enough undertaking)\\n\\nThis is a good idea - so you can carry your (non-alcoholic) drinks without\\nspilling or having someone hold on to them.\\n\\n>Cellular phones and mobile fax machines (see above)\\n\\nFax machines, yes.  Cellular phones:  Why not get a hands-free model?\\n\\n>Fake convertible roofs and vinyl roofs.\\n\\nSeemingly unique to American luxury cars.  The Big Three haven't yet realized\\nthat the 1970s are over.\\n\\n>Any gold trim.\\n\\nI agree.  Just another display of Yuppie excess.\\n\\n>Jon Dunn<\\n\\n\\n\", 'From: sbrogii@copernicus.Tymnet.COM (Scott Brogley)\\nSubject: dodge wagon for sale\\nSummary: 1964 Dodge Dart V8 wagon $300/negotiable\\nKeywords: 1964 Dodge Dart wagon 273ci v8 sale 300 $ for california cal CAL Bay Area bay area Cal\\nArticle-I.D.: tymix.3647\\nOrganization: 2M&I\\nLines: 20\\nNntp-Posting-Host: copernicus\\n\\nTo: Dodge Dart collectors\\n\\nI have a 1964 Dodge (25th anniversary) Dart 273ci V8 wagon to turn into cash.\\nMy asking price is $300.00 although we can negotiate.  The car currently\\nresides in Union City, California.  Thats on the east side of the San Francisco\\nBay Area in the state of California of the United states of America on the\\ncontinent of North America of the planet Earth, third planetary body out from\\nSol, a mid range yellowish star in the Western Spiral Arm of the Milkyway\\nGalaxy.\\n\\ntoowhit: north of Silicon Valley\\n\\nif interested pleas contact Scott by the following means:\\n        internet                sbrogii@tymnet.com\\n        home answering machine  510.489.6165\\n        business voice mail     408.922.6547\\n        loud yell & wave money out the window\\n                        ^(not recommended in downtown urban environment)\\n\\nps. I also have a `72 BMW r60/5 for sale, $700.00.\\n', 'From: jimf@centerline.com (Jim Frost)\\nSubject: Re: Is car saftey important?\\nOrganization: CenterLine Software, Inc.\\nLines: 14\\nNNTP-Posting-Host: 140.239.3.202\\n\\ntcorkum@bnr.ca (Trevor Corkum) writes:\\n>Is it only me, or is\\n>safety not one of the most important factors when buying a car?\\n\\nIt depends on your priorities.  A lot of people put higher priorities\\non gas mileage and cost than on safety, buying \"unsafe\" econoboxes\\ninstead of Volvos.  I personally take a middle ground -- the only\\nthing I really look for is a three-point seatbelt and 5+mph bumpers.\\nI figure that 30mph collisions into brick walls aren\\'t common enough\\nfor me to spend that much extra money for protection, but there are\\nlots of low-speed collisions that do worry me.\\n\\njim frost\\njimf@centerline.com\\n', 'From: (Eric Youngblood)\\nSubject: Re: Old Corvettes / Low insurance?\\nReply-To: Peon w/o Email (Eric Youngblood)\\nNntp-Posting-Host: crchh435\\nOrganization: BNR, Inc.\\nLines: 47\\n\\nIn article <1993Apr15.011805.28485@ns1.cc.lehigh.edu>, swr2@ns1.cc.lehigh.edu (SCOTT WARREN ROSANDER) writes:\\n|> In article <C5Csux.Fn1@news.cso.uiuc.edu>, gdhg8823@uxa.cso.uiuc.edu (George Hei\\n|> nz) writes:\\n|> >After too many years of school I\\'m finally graduating and getting a real\\n|> >job.  Of course I am trying to make plans of how to spend all this extra\\n|> >money.  Right now I have an 89 accord, a good car, but not real sporty &\\n|> >I was thinking of selling it in about two years and dropping around\\n|> >$20k on a sports car of some kind.  After thinking about it, I may have a\\n|> >better idea -- I\\'ll keep the Accord until it drops and buy the car I\\'ve\\n|> >always wanted -- a Corvette Stingray. My reasoning is that $8000 (accord)+\\n|> >$8000 (corvette) =$16000 is less than what I would spend anyway.\\n|> >\\n|> >Basically, I\\'m thinking of a late 70\\'s, early 80\\'s for around $7-$10k.\\n|> >My question is, what are good years to consider (for reliability, looks,\\n|> >horsepower -- in that order, believe it or not, horsepower is not a main\\n|> >concern, if I want to go fast, I get on my motorcycle) and what are\\n|> >good prices?\\n|> >\\n|> >Also, what would insurance look like?  I\\'m male, single, 23 (I might\\n|> >wait until I\\'m 25 to get the car = lower insurance). Would the fact that\\n|> >I mainly drive the other car lower it?  Is there some type of \"classic\\n|> >car\" or \"rarely driven\" insurance class for driving it under 10k miles\\n|> >per year?\\n|> >\\n|>     My dad has a 66 vette and its on what you say \\'classic insurance\\'.\\n|>     Basically what that means is that it has restricted amount of driving\\n|>     time, which basically means it cant be used as an every day car and would\\n|>     probably suit your needs for limited mileage.\\n|> -- \\n\\n\\nIn addition to restricted mileage, many classic insurance carriers also require\\nthat the vehicle be garaged when not in use.\\n\\n$0.02\\n\\nEricy\\n\\n\\n      *---------------------------------+---------------------------*\\n      | Eric Youngblood                                             |\\n      | Bell-Northern Research    _                                 |\\n      | Richardson, Texas 75082 _| ~-                               |\\n      |                         \\\\,  _}                              |\\n      |                           \\\\(    +---------------------------|\\n      |                                 |   Peon w/o Email privs    |\\n      *---------------------------------+---------------------------*\\n', \"From: patter@dasher.cc.bellcore.com (patterson,george r)\\nSubject: Re: Power, signal surges in home...\\nOrganization: Bellcore, Livingston, NJ\\nLines: 20\\n\\nIn article <1993Apr20.232804.24632@mprgate.mpr.ca> vanderby@mprgate.mpr.ca (David Vanderbyl) writes:\\n>kludge@grissom.larc.nasa.gov (Scott Dorsey) writes:\\n>\\n>>My car, unfortunately, has so much computer junk under the hood that it's\\n>>astonishingly sensitive to RFI.  \\n>\\n>Hmmmmm... this has possibilities:\\n>If the police are in pursuit of a vehicle, maybe they can bombard it with\\n>high energy RFI.  :-)\\n\\nRight. So all the cops will be buying antique muscle cars for chase cars;\\notherwise the *police* cars will die too!\\n\\n-----------------------------------------------------------------------\\n                    | To get the attention of a large animal, be it an\\n                    | elephant or a bureaucracy, it helps to know what\\nGeorge Patterson -  | part of it feels pain. Be very sure, though, that\\n                    | you want its full attention.\\n                    |                            Kelvin Throop\\n-----------------------------------------------------------------------\\n\", \"From: lerxst@wam.umd.edu (where's my thing)\\nSubject: WHAT car is this!?\\nNntp-Posting-Host: rac3.wam.umd.edu\\nOrganization: University of Maryland, College Park\\nLines: 15\\n\\n I was wondering if anyone out there could enlighten me on this car I saw\\nthe other day. It was a 2-door sports car, looked to be from the late 60s/\\nearly 70s. It was called a Bricklin. The doors were really small. In addition,\\nthe front bumper was separate from the rest of the body. This is \\nall I know. If anyone can tellme a model name, engine specs, years\\nof production, where this car is made, history, or whatever info you\\nhave on this funky looking car, please e-mail.\\n\\nThanks,\\n- IL\\n   ---- brought to you by your neighborhood Lerxst ----\\n\\n\\n\\n\\n\", \"From: lerxst@wam.umd.edu (where's my thing)\\nSubject: WHAT car is this!?\\nNntp-Posting-Host: rac3.wam.umd.edu\\nOrganization: University of Maryland, College Park\\nLines: 15\\n\\n I was wondering if anyone out there could enlighten me on this car I saw\\nthe other day. It was a 2-door sports car, looked to be from the late 60s/\\nearly 70s. It was called a Bricklin. The doors were really small. In addition,\\nthe front bumper was separate from the rest of the body. This is \\nall I know. If anyone can tellme a model name, engine specs, years\\nof production, where this car is made, history, or whatever info you\\nhave on this funky looking car, please e-mail.\\n\\nThanks,\\n- IL\\n   ---- brought to you by your neighborhood Lerxst ----\\n\\n\\n\\n\\n\", \"From: eliot@lanmola.engr.washington.edu (eliot)\\nSubject: Re: station wagons (was  Open letter to NISSAN\\nOrganization: clearer than blir\\nLines: 30\\nDistribution: na\\nNNTP-Posting-Host: lanmola.engr.washington.edu\\n\\nIn article <1993Apr16.052013.23517@leland.Stanford.EDU> tedebear@leland.Stanford.EDU (Theodore Chen) writes:\\n>>but you'll\\n>>never catch me dead in a minivan!\\n\\n>even a minivan based on viper running gear?\\n\\nhmmmm.. not sure, since no such beast exists.. i can tell you another\\nthough..  you won't catch me dead in a GMC Syclone or Typhoon either,\\n1000 bhp or not.. not even the fact that Clint Eastwood has one.  just\\nmy taste,  no rational reasons for it.\\n\\n>-teddy\\n>p.s. i think the audi S4 gets a 4.2 liter V-8 next year.\\n\\nCAR just tested the S4 wagon with 5 banger and 6 speed manual.  Rave\\nreview except for Servotronic..  Audi is trying to recoup the\\ndevelopment costs for the V8, and since the V8 is not selling well,\\nthey are sticking it into the 100 series cars.. Neat marketing trick,\\neh?  yeah, a 100 V8-32v wouldn't be a bad idea as competition for the\\nupcoming bimmer 530/540i would it?  maybe they can use a 3.6 liter\\nversion to avoid conflicts with the v8 model.. then strip off all the\\nluxo-garbage.  let the S4 remain with the flared arches and fat tires\\nto go fight with the M5.... maybe turn up the boost a wee bit to bump\\nbhp up to say 450 or so.. :-) while keeping the 100 V8 with mercedes\\n500E style subtlety.\\n\\nblah blah blah....\\n\\n\\neliot\\n\", 'From: mliggett@silver.ucs.indiana.edu (matthew liggett)\\nSubject: Re: Opel owners?\\nNntp-Posting-Host: silver.ucs.indiana.edu\\nOrganization: Indiana University\\nLines: 62\\n\\nIn <C5t3B2.DG@news.cso.uiuc.edu> cka52397@uxa.cso.uiuc.edu (OrioleFan@uiuc) writes:\\n\\n>boyle@cactus.org (Craig Boyle) writes:\\n\\n>>In article <C5sxI4.J9B@news.cso.uiuc.edu> cka52397@uxa.cso.uiuc.edu (OrioleFan@uiuc) writes:\\n>>>gibbonsa@fraser.sfu.ca (Darren Gibbons) writes:\\n>>>>I\\'m looking for information on Opel cars.  Now you ask, which model?\\n>>>>Well, the sad truth is, I\\'m not entirely sure, but it\\'s a two-seater,\\n>>>>with roll-over headlights, hard top, and really sporty looking.  My\\n>>>>friend has one sitting in his yard in really nice condition,\\n>>>>body-wise, but he transmission has seized up on him, so it hasn\\'t run\\n>>>>for a while.  Does anyone have any info on these cars?  The engine\\n>>>>compartment looks really tight to work on, but it is in fine shape and\\n>>>>I am quite interested in it.\\n>>>>Thanks!\\n>>>>Darren Gibbons\\n>>>>gibbonsa@sfu.ca\\n>>>\\t\\n>>>\\tThis would be the manta, would it not???  Sold through Buick dealers in the mid \\'70\\'s as the price leader????\\n\\n>>Sounds a lot more like an Opel GT to me. I\\'d guess that this is on the same\\n>>chassis as the Kadett, rather than the bigger Manta - but I could easily\\n>>be wrong.  I think the later Kadett\\'s were sold here as Buick Opels.\\n\\n>>Craig\\n\\n>\\tI think the Manta is the European name for the \"GT.\"  I\\'m pretty sure\\n>that the only Kadett\\'s sold here were/are the Pontiac LeMans.  I think the\\n>GT is just an early \\'70s to mid \\'70s Manta.  \\n>-- \\n>Chintan Amin <The University of Illinois UrbanaChampaign> mail: llama@uiuc.edu\\n>*******SIG UNDER CONSTRUCTION HARD HAT AREA********\\n\\nBzzt.\\nThe manta was a two-door sedan in the US.\\nIt had a 1900 engine.\\nWas sometimes referred to as an Opel 1900.\\nManta\\'s are also ve hot and fun cars too.\\n\\n\\n\\n\\n\\n\\n\\n\\n\\n\\n\\n\\n\\n\\n\\n\\n\\n\\n\\n-- \\n/-=*=-=*=-=*=-=*=-=*=-=*=-=*=-=*=-=*=-=*=-=*=-=*=-=*=-=*=-=*=-=*=-=*=-=*=-=*=-\\\\\\n| |\\\\/|  __   -=> mliggett@silver.ucs.indiana.edu <=- (mliggett@iugold.bitnet  |\\n* |  |/\\\\||   \\'junk\\' collector, toys R us kid, antiauthoritarian, and fan of   *\\n| frogs, iguanas, and other herps.\\t\\t\\t\\t\\t      |\\n']], 'uris': None, 'data': None, 'included': ['metadatas', 'documents', 'distances']}\n"
     ]
    }
   ],
   "source": [
    "results = collection2.query(\n",
    "    query_texts=[\"car\"], # Chroma will embed this for you\n",
    "    n_results=10 # how many results to return\n",
    ")\n",
    "print(results)\n"
   ]
  },
  {
   "cell_type": "code",
   "execution_count": 7,
   "id": "7058abf8",
   "metadata": {},
   "outputs": [],
   "source": [
    "import pandas as pd"
   ]
  },
  {
   "cell_type": "code",
   "execution_count": 16,
   "id": "32316bae",
   "metadata": {},
   "outputs": [
    {
     "data": {
      "text/html": [
       "<div>\n",
       "<style scoped>\n",
       "    .dataframe tbody tr th:only-of-type {\n",
       "        vertical-align: middle;\n",
       "    }\n",
       "\n",
       "    .dataframe tbody tr th {\n",
       "        vertical-align: top;\n",
       "    }\n",
       "\n",
       "    .dataframe thead th {\n",
       "        text-align: right;\n",
       "    }\n",
       "</style>\n",
       "<table border=\"1\" class=\"dataframe\">\n",
       "  <thead>\n",
       "    <tr style=\"text-align: right;\">\n",
       "      <th></th>\n",
       "      <th>0</th>\n",
       "      <th>1</th>\n",
       "      <th>2</th>\n",
       "      <th>3</th>\n",
       "      <th>4</th>\n",
       "      <th>5</th>\n",
       "      <th>6</th>\n",
       "      <th>7</th>\n",
       "      <th>8</th>\n",
       "      <th>9</th>\n",
       "    </tr>\n",
       "  </thead>\n",
       "  <tbody>\n",
       "    <tr>\n",
       "      <th>0</th>\n",
       "      <td>1.308435</td>\n",
       "      <td>1.309685</td>\n",
       "      <td>1.328615</td>\n",
       "      <td>1.333975</td>\n",
       "      <td>1.342424</td>\n",
       "      <td>1.354501</td>\n",
       "      <td>1.372463</td>\n",
       "      <td>1.372463</td>\n",
       "      <td>1.374616</td>\n",
       "      <td>1.389456</td>\n",
       "    </tr>\n",
       "  </tbody>\n",
       "</table>\n",
       "</div>"
      ],
      "text/plain": [
       "          0         1         2         3         4         5         6  \\\n",
       "0  1.308435  1.309685  1.328615  1.333975  1.342424  1.354501  1.372463   \n",
       "\n",
       "          7         8         9  \n",
       "0  1.372463  1.374616  1.389456  "
      ]
     },
     "execution_count": 16,
     "metadata": {},
     "output_type": "execute_result"
    },
    {
     "ename": "",
     "evalue": "",
     "output_type": "error",
     "traceback": [
      "\u001b[1;31mThe Kernel crashed while executing code in the current cell or a previous cell. \n",
      "\u001b[1;31mPlease review the code in the cell(s) to identify a possible cause of the failure. \n",
      "\u001b[1;31mClick <a href='https://aka.ms/vscodeJupyterKernelCrash'>here</a> for more info. \n",
      "\u001b[1;31mView Jupyter <a href='command:jupyter.viewOutput'>log</a> for further details."
     ]
    }
   ],
   "source": [
    "pd.DataFrame(results['distances']).transpose()"
   ]
  },
  {
   "cell_type": "code",
   "execution_count": 11,
   "id": "4c0f94a0",
   "metadata": {},
   "outputs": [
    {
     "data": {
      "text/plain": [
       "'From: jimf@centerline.com (Jim Frost)\\nSubject: Re: Is car saftey important?\\nOrganization: CenterLine Software, Inc.\\nLines: 14\\nNNTP-Posting-Host: 140.239.3.202\\n\\ntcorkum@bnr.ca (Trevor Corkum) writes:\\n>Is it only me, or is\\n>safety not one of the most important factors when buying a car?\\n\\nIt depends on your priorities.  A lot of people put higher priorities\\non gas mileage and cost than on safety, buying \"unsafe\" econoboxes\\ninstead of Volvos.  I personally take a middle ground -- the only\\nthing I really look for is a three-point seatbelt and 5+mph bumpers.\\nI figure that 30mph collisions into brick walls aren\\'t common enough\\nfor me to spend that much extra money for protection, but there are\\nlots of low-speed collisions that do worry me.\\n\\njim frost\\njimf@centerline.com\\n'"
      ]
     },
     "execution_count": 11,
     "metadata": {},
     "output_type": "execute_result"
    }
   ],
   "source": [
    "pd.DataFrame(results['documents']).transpose()[0][3]"
   ]
  },
  {
   "cell_type": "code",
   "execution_count": null,
   "id": "884a8265",
   "metadata": {},
   "outputs": [],
   "source": []
  },
  {
   "cell_type": "code",
   "execution_count": null,
   "id": "30ce1c7b",
   "metadata": {},
   "outputs": [],
   "source": []
  },
  {
   "cell_type": "code",
   "execution_count": 12,
   "id": "fe8c1cea",
   "metadata": {},
   "outputs": [],
   "source": [
    "collection3 = chroma_client.get_or_create_collection(name=\"my_collection3\")\n"
   ]
  },
  {
   "cell_type": "code",
   "execution_count": 13,
   "id": "0656c405",
   "metadata": {},
   "outputs": [],
   "source": [
    "collection3.add(\n",
    "    documents=[\n",
    "        \"This is a document about pineapple\",\n",
    "        \"This is a document about oranges\"\n",
    "    ],\n",
    "    ids=[\"id1\", \"id2\"],\n",
    "    metadatas=[{\"chapter\": \"3\", \"verse\": \"16\"}, {\"chapter\": \"3\", \"verse\": \"5\"}]\n",
    "\n",
    ")\n"
   ]
  },
  {
   "cell_type": "code",
   "execution_count": null,
   "id": "6990ce81",
   "metadata": {},
   "outputs": [],
   "source": [
    "collection3.get()"
   ]
  },
  {
   "cell_type": "code",
   "execution_count": null,
   "id": "421c8e07",
   "metadata": {},
   "outputs": [],
   "source": [
    "results = collection3.query(\n",
    "    query_texts=[\"apple\"], # Chroma will embed this for you\n",
    "    n_results=2, # how many results to return\n",
    "    where = {\n",
    "    \"$or\": [\n",
    "        {\n",
    "            \"verse\": {\n",
    "                '$eq' : '5'\n",
    "            }\n",
    "        },\n",
    "        {\n",
    "            \"chapter\": {\n",
    "                '$eq' : '3'\n",
    "            }\n",
    "        }\n",
    "    ]\n",
    "}\n",
    ")\n",
    "print(results)\n"
   ]
  },
  {
   "cell_type": "code",
   "execution_count": null,
   "id": "57d9ffe0",
   "metadata": {},
   "outputs": [],
   "source": []
  },
  {
   "cell_type": "code",
   "execution_count": null,
   "id": "93b63c61",
   "metadata": {},
   "outputs": [],
   "source": []
  },
  {
   "cell_type": "code",
   "execution_count": null,
   "id": "2e4b182b",
   "metadata": {},
   "outputs": [],
   "source": [
    "results = collection.query(\n",
    "    query_texts=[\"This is a query document about hawaii\"], # Chroma will embed this for you\n",
    "    n_results=2 # how many results to return\n",
    ")\n",
    "print(results)\n"
   ]
  },
  {
   "cell_type": "code",
   "execution_count": null,
   "id": "3d987c8b",
   "metadata": {},
   "outputs": [],
   "source": [
    "results = collection.query(\n",
    "    query_texts=[\"shoes\"], # Chroma will embed this for you\n",
    "    n_results=2 # how many results to return\n",
    ")\n",
    "print(results)\n"
   ]
  },
  {
   "cell_type": "code",
   "execution_count": null,
   "id": "bfaa2408",
   "metadata": {},
   "outputs": [],
   "source": [
    "results['documents']"
   ]
  },
  {
   "cell_type": "code",
   "execution_count": null,
   "id": "7c5c6c43",
   "metadata": {},
   "outputs": [],
   "source": [
    "collection.query(\n",
    "    query_texts=[\"shoes\"],\n",
    "    n_results=2 ,\n",
    "    where_document={\"$contains\":\"apple\"}\n",
    ")"
   ]
  },
  {
   "cell_type": "code",
   "execution_count": null,
   "id": "f874d12c",
   "metadata": {},
   "outputs": [],
   "source": [
    "from chromadb.config import Settings\n",
    "client = chromadb.Client(Settings(anonymized_telemetry=False))\n",
    "# or if using PersistentClient\n",
    "client = chromadb.PersistentClient(path=\"/path/to/save/to\", settings=Settings(anonymized_telemetry=False))\n"
   ]
  },
  {
   "cell_type": "code",
   "execution_count": null,
   "id": "b852f102",
   "metadata": {},
   "outputs": [],
   "source": []
  },
  {
   "cell_type": "code",
   "execution_count": null,
   "id": "70bc770b",
   "metadata": {},
   "outputs": [],
   "source": [
    "collection = chroma_client.create_collection(name=\"my_collection\")\n"
   ]
  },
  {
   "cell_type": "code",
   "execution_count": null,
   "id": "74310a21",
   "metadata": {},
   "outputs": [],
   "source": [
    "collection.add(\n",
    "    documents=[\n",
    "        \"This is a document about pineapple\",\n",
    "        \"This is a document about oranges\"\n",
    "    ],\n",
    "    ids=[\"id1\", \"id2\"]\n",
    ")\n"
   ]
  },
  {
   "cell_type": "code",
   "execution_count": null,
   "id": "272d30fb",
   "metadata": {},
   "outputs": [],
   "source": [
    "results = collection.query(\n",
    "    query_texts=[\"This is a query document about hawaii\"], # Chroma will embed this for you\n",
    "    n_results=2 # how many results to return\n",
    ")\n",
    "print(results)\n"
   ]
  },
  {
   "cell_type": "code",
   "execution_count": null,
   "id": "734508cc",
   "metadata": {},
   "outputs": [],
   "source": [
    "# {\n",
    "#   'documents': [[\n",
    "#       'This is a document about pineapple',\n",
    "#       'This is a document about oranges'\n",
    "#   ]],\n",
    "#   'ids': [['id1', 'id2']],\n",
    "#   'distances': [[1.0404009819030762, 1.243080496788025]],\n",
    "#   'uris': None,\n",
    "#   'data': None,\n",
    "#   'metadatas': [[None, None]],\n",
    "#   'embeddings': None,\n",
    "# }\n"
   ]
  },
  {
   "cell_type": "markdown",
   "id": "8e851606",
   "metadata": {},
   "source": [
    "## Persistenting the db model and informations"
   ]
  },
  {
   "cell_type": "code",
   "execution_count": null,
   "id": "13f29b0d",
   "metadata": {},
   "outputs": [],
   "source": [
    "import chromadb\n",
    "from chromadb.config import Settings\n",
    "\n",
    "\n",
    "client = chromadb.Client(Settings(chroma_db_impl=\"duckdb+parquet\",\n",
    "                                    persist_directory=\"db/\"\n",
    "                                ))"
   ]
  },
  {
   "cell_type": "code",
   "execution_count": null,
   "id": "29759cb2",
   "metadata": {},
   "outputs": [],
   "source": [
    "client = chromadb.PersistentClient(path=\"/db\",)"
   ]
  },
  {
   "cell_type": "code",
   "execution_count": null,
   "id": "59685fa6",
   "metadata": {},
   "outputs": [],
   "source": [
    "client.heartbeat() # returns a nanosecond heartbeat. Useful for making sure the client remains connected."
   ]
  },
  {
   "cell_type": "code",
   "execution_count": null,
   "id": "d796e69a",
   "metadata": {},
   "outputs": [],
   "source": [
    "#client.reset() # Empties and completely resets the database. ⚠️ This is destructive and not reversible."
   ]
  },
  {
   "cell_type": "code",
   "execution_count": null,
   "id": "4e4d1e01",
   "metadata": {},
   "outputs": [],
   "source": [
    "collection = client.create_collection(name=\"my_collection\", embedding_function=emb_fn)\n",
    "collection = client.get_collection(name=\"my_collection\", embedding_function=emb_fn)\n"
   ]
  },
  {
   "cell_type": "code",
   "execution_count": null,
   "id": "78873666",
   "metadata": {},
   "outputs": [],
   "source": [
    "collection = client.get_collection(name=\"test\") # Get a collection object from an existing collection, by name. Will raise an exception if it's not found.\n",
    "collection = client.get_or_create_collection(name=\"test\") # Get a collection object from an existing collection, by name. If it doesn't exist, create it.\n",
    "client.delete_collection(name=\"my_collection\") # Delete a collection and all associated embeddings, documents, and metadata. ⚠️ This is destructive and not reversible\n"
   ]
  },
  {
   "cell_type": "code",
   "execution_count": null,
   "id": "e670a300",
   "metadata": {},
   "outputs": [],
   "source": [
    "collection = client.create_collection(\n",
    "        name=\"collection_name\",\n",
    "        metadata={\"hnsw:space\": \"cosine\"} # l2 is the default\n",
    "    )"
   ]
  },
  {
   "cell_type": "code",
   "execution_count": null,
   "id": "315b590a",
   "metadata": {},
   "outputs": [],
   "source": [
    "collection.add(\n",
    "    documents=[\"lorem ipsum...\", \"doc2\", \"doc3\", ...],\n",
    "    metadatas=[{\"chapter\": \"3\", \"verse\": \"16\"}, {\"chapter\": \"3\", \"verse\": \"5\"}, {\"chapter\": \"29\", \"verse\": \"11\"}, ...],\n",
    "    ids=[\"id1\", \"id2\", \"id3\", ...]\n",
    ")"
   ]
  },
  {
   "cell_type": "code",
   "execution_count": null,
   "id": "7633d57c",
   "metadata": {},
   "outputs": [],
   "source": [
    "collection.add(\n",
    "    documents=[\"doc1\", \"doc2\", \"doc3\", ...],\n",
    "    embeddings=[[1.1, 2.3, 3.2], [4.5, 6.9, 4.4], [1.1, 2.3, 3.2], ...],\n",
    "    metadatas=[{\"chapter\": \"3\", \"verse\": \"16\"}, {\"chapter\": \"3\", \"verse\": \"5\"}, {\"chapter\": \"29\", \"verse\": \"11\"}, ...],\n",
    "    ids=[\"id1\", \"id2\", \"id3\", ...]\n",
    ")\n"
   ]
  },
  {
   "cell_type": "code",
   "execution_count": null,
   "id": "1eaa72a0",
   "metadata": {},
   "outputs": [],
   "source": [
    "collection.add(\n",
    "    embeddings=[[1.1, 2.3, 3.2], [4.5, 6.9, 4.4], [1.1, 2.3, 3.2], ...],\n",
    "    metadatas=[{\"chapter\": \"3\", \"verse\": \"16\"}, {\"chapter\": \"3\", \"verse\": \"5\"}, {\"chapter\": \"29\", \"verse\": \"11\"}, ...],\n",
    "    ids=[\"id1\", \"id2\", \"id3\", ...]\n",
    ")\n"
   ]
  },
  {
   "cell_type": "code",
   "execution_count": null,
   "id": "f8bbd8e1",
   "metadata": {},
   "outputs": [],
   "source": [
    "collection.query(\n",
    "    query_embeddings=[[11.1, 12.1, 13.1],[1.1, 2.3, 3.2], ...],\n",
    "    n_results=10,\n",
    "    where={\"metadata_field\": \"is_equal_to_this\"},\n",
    "    where_document={\"$contains\":\"search_string\"}\n",
    ")\n"
   ]
  },
  {
   "cell_type": "code",
   "execution_count": null,
   "id": "06c2f3ac",
   "metadata": {},
   "outputs": [],
   "source": [
    "collection.query(\n",
    "    query_texts=[\"doc10\", \"thus spake zarathustra\", ...],\n",
    "    n_results=10,\n",
    "    where={\"metadata_field\": \"is_equal_to_this\"},\n",
    "    where_document={\"$contains\":\"search_string\"}\n",
    ")\n"
   ]
  },
  {
   "cell_type": "code",
   "execution_count": null,
   "id": "4bff22e5",
   "metadata": {},
   "outputs": [],
   "source": [
    "# Only get documents and ids\n",
    "collection.get(\n",
    "    include=[\"documents\"]\n",
    ")\n",
    "\n",
    "collection.query(\n",
    "    query_embeddings=[[11.1, 12.1, 13.1],[1.1, 2.3, 3.2], ...],\n",
    "    include=[\"documents\"]\n",
    ")\n"
   ]
  },
  {
   "cell_type": "code",
   "execution_count": null,
   "id": "7df9f20f",
   "metadata": {},
   "outputs": [],
   "source": [
    "collection.update(\n",
    "    ids=[\"id1\", \"id2\", \"id3\", ...],\n",
    "    embeddings=[[1.1, 2.3, 3.2], [4.5, 6.9, 4.4], [1.1, 2.3, 3.2], ...],\n",
    "    metadatas=[{\"chapter\": \"3\", \"verse\": \"16\"}, {\"chapter\": \"3\", \"verse\": \"5\"}, {\"chapter\": \"29\", \"verse\": \"11\"}, ...],\n",
    "    documents=[\"doc1\", \"doc2\", \"doc3\", ...],\n",
    ")\n"
   ]
  },
  {
   "cell_type": "code",
   "execution_count": null,
   "id": "96392a85",
   "metadata": {},
   "outputs": [],
   "source": [
    "collection.upsert(\n",
    "    ids=[\"id1\", \"id2\", \"id3\", ...],\n",
    "    embeddings=[[1.1, 2.3, 3.2], [4.5, 6.9, 4.4], [1.1, 2.3, 3.2], ...],\n",
    "    metadatas=[{\"chapter\": \"3\", \"verse\": \"16\"}, {\"chapter\": \"3\", \"verse\": \"5\"}, {\"chapter\": \"29\", \"verse\": \"11\"}, ...],\n",
    "    documents=[\"doc1\", \"doc2\", \"doc3\", ...],\n",
    ")\n"
   ]
  },
  {
   "cell_type": "code",
   "execution_count": null,
   "id": "7d3cef19",
   "metadata": {},
   "outputs": [],
   "source": [
    "collection.delete(\n",
    "    ids=[\"id1\", \"id2\", \"id3\",...],\n",
    "\twhere={\"chapter\": \"20\"}\n",
    ")\n"
   ]
  },
  {
   "cell_type": "markdown",
   "id": "2a44817c",
   "metadata": {},
   "source": [
    "## Integrate with Hugging face"
   ]
  },
  {
   "cell_type": "code",
   "execution_count": null,
   "id": "e0f86ec5",
   "metadata": {},
   "outputs": [],
   "source": [
    "import chromadb.utils.embedding_functions as embedding_functions\n",
    "huggingface_ef = embedding_functions.HuggingFaceEmbeddingFunction(\n",
    "    api_key=\"YOUR_API_KEY\",\n",
    "    model_name=\"sentence-transformers/all-MiniLM-L6-v2\"\n",
    ")\n"
   ]
  },
  {
   "cell_type": "code",
   "execution_count": null,
   "id": "fa786487",
   "metadata": {},
   "outputs": [],
   "source": []
  },
  {
   "cell_type": "code",
   "execution_count": null,
   "id": "ad2f31fa",
   "metadata": {},
   "outputs": [],
   "source": []
  },
  {
   "cell_type": "code",
   "execution_count": null,
   "id": "7c8a14a9",
   "metadata": {},
   "outputs": [],
   "source": []
  }
 ],
 "metadata": {
  "kernelspec": {
   "display_name": "Python 3 (ipykernel)",
   "language": "python",
   "name": "python3"
  },
  "language_info": {
   "codemirror_mode": {
    "name": "ipython",
    "version": 3
   },
   "file_extension": ".py",
   "mimetype": "text/x-python",
   "name": "python",
   "nbconvert_exporter": "python",
   "pygments_lexer": "ipython3",
   "version": "3.11.9"
  }
 },
 "nbformat": 4,
 "nbformat_minor": 5
}
